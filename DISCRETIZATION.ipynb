{
  "cells": [
    {
      "cell_type": "code",
      "source": [
        "import numpy as np\n",
        "\n",
        "raw_input = input(\"Enter numbers separated by spaces: \")\n",
        "data = list(map(int, raw_input.strip().split()))\n",
        "\n",
        "data = sorted(data)\n",
        "n = len(data)\n",
        "\n",
        "if n < 3:\n",
        "    raise ValueError(\"You must enter at least 3 numbers.\")\n",
        "\n",
        "if n % 3 != 0:\n",
        "    print(f\"\\nNote: {n % 3} number(s) will be ignored to make equal-sized bins of 3.\")\n",
        "    data = data[:n - (n % 3)]  # Trim extra values that don't fit into a bin\n",
        "    n = len(data)\n",
        "\n",
        "num_bins = n // 3\n",
        "\n",
        "b1 = np.zeros((num_bins, 3))\n",
        "b2 = np.zeros((num_bins, 3))\n",
        "b3 = np.zeros((num_bins, 3))\n",
        "\n",
        "\n",
        "for i in range(0, n, 3):\n",
        "    k = i // 3\n",
        "    mean = np.mean(data[i:i+3])\n",
        "    b1[k, :] = mean\n",
        "\n",
        "for i in range(0, n, 3):\n",
        "    k = i // 3\n",
        "    median = np.median(data[i:i+3])\n",
        "    b2[k, :] = median\n",
        "\n",
        "\n",
        "for i in range(0, n, 3):\n",
        "    k = i // 3\n",
        "    low, high = data[i], data[i+2]\n",
        "    for j in range(3):\n",
        "        b3[k, j] = low if abs(data[i+j] - low) < abs(data[i+j] - high) else high\n",
        "\n",
        "\n",
        "print(\"\\n* Partition into Equal-Frequency Bins:\")\n",
        "for i in range(0, n, 3):\n",
        "    print(f\"Bin{(i // 3) + 1}: {list(map(int, data[i:i+3]))}\")\n",
        "\n",
        "print(\"\\n* Smoothing by bin Means:\")\n",
        "for i in range(num_bins):\n",
        "    print(f\"Bin{i+1}: {list(map(int, b1[i]))}\")\n",
        "\n",
        "print(\"\\n* Smoothing by Bin Boundary:\")\n",
        "for i in range(num_bins):\n",
        "    print(f\"Bin{i+1}: {list(map(int, b3[i]))}\")\n",
        "\n",
        "print(\"\\n* Smoothing by Bin Medians:\")\n",
        "for i in range(num_bins):\n",
        "    print(f\"Bin{i+1}: {list(map(int, b2[i]))}\")\n"
      ],
      "metadata": {
        "id": "uHObSyCHzrIg",
        "outputId": "6ac09708-fed2-4c02-8573-cc419f6c0f4f",
        "colab": {
          "base_uri": "https://localhost:8080/"
        }
      },
      "execution_count": null,
      "outputs": [
        {
          "output_type": "stream",
          "name": "stdout",
          "text": [
            "Enter numbers separated by spaces: 45 30 60 15 90 75\n",
            "\n",
            "* Partition into Equal-Frequency Bins:\n",
            "Bin1: [15, 30, 45]\n",
            "Bin2: [60, 75, 90]\n",
            "\n",
            "* Smoothing by bin Means:\n",
            "Bin1: [30, 30, 30]\n",
            "Bin2: [75, 75, 75]\n",
            "\n",
            "* Smoothing by Bin Boundary:\n",
            "Bin1: [15, 45, 45]\n",
            "Bin2: [60, 90, 90]\n",
            "\n",
            "* Smoothing by Bin Medians:\n",
            "Bin1: [30, 30, 30]\n",
            "Bin2: [75, 75, 75]\n"
          ]
        }
      ]
    }
  ],
  "metadata": {
    "colab": {
      "toc_visible": true,
      "provenance": []
    },
    "kernelspec": {
      "display_name": "Python 3",
      "name": "python3"
    }
  },
  "nbformat": 4,
  "nbformat_minor": 0
}