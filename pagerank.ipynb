{
  "cells": [
    {
      "cell_type": "code",
      "source": [
        "import numpy as np\n",
        "\n",
        "n = int(input(\"Enter the number of nodes: \"))\n",
        "m = int(input(\"Enter the number of edges: \"))\n",
        "\n",
        "adj_matrix = np.zeros((n, n))\n",
        "\n",
        "print(\"Enter edges in format: from_node to_node (0-indexed)\")\n",
        "\n",
        "for _ in range(m):\n",
        "    from_node, to_node = map(int, input().split())\n",
        "\n",
        "    adj_matrix[to_node, from_node] = 1\n",
        "\n",
        "alpha = 0.85\n",
        "max_iter = 100\n",
        "tol = 1e-6\n",
        "\n",
        "out_degree = adj_matrix.sum(axis=0)\n",
        "\n",
        "dangling_nodes = (out_degree == 0)\n",
        "\n",
        "pr = np.ones(n) / n\n",
        "\n",
        "M = np.zeros((n, n))\n",
        "for j in range(n):\n",
        "    if out_degree[j] > 0:\n",
        "        M[:, j] = adj_matrix[:, j] / out_degree[j]\n",
        "    else:\n",
        "        M[:, j] = 1.0 / n\n",
        "\n",
        "for i in range(max_iter):\n",
        "    pr_new = alpha * (M @ pr) + (1 - alpha) / n\n",
        "\n",
        "    if np.linalg.norm(pr_new - pr, 1) < tol:\n",
        "        break\n",
        "    pr = pr_new\n",
        "\n",
        "print(\"\\nPageRank scores:\")\n",
        "for i, score in enumerate(pr):\n",
        "    print(f\"Node {i}: {score:.6f}\")\n",
        "\n"
      ],
      "metadata": {
        "id": "ekLbLe9b9AgZ",
        "outputId": "a1a2abeb-290f-4ca7-cfc0-de797ddd6e58",
        "colab": {
          "base_uri": "https://localhost:8080/"
        }
      },
      "execution_count": null,
      "outputs": [
        {
          "output_type": "stream",
          "name": "stdout",
          "text": [
            "Enter the number of nodes: 4\n",
            "Enter the number of edges: 5\n",
            "Enter edges in format: from_node to_node (0-indexed)\n",
            "0 1\n",
            "1 2\n",
            "2 1\n",
            "2 0\n",
            "3 0\n",
            "\n",
            "PageRank scores:\n",
            "Node 0: 0.222491\n",
            "Node 1: 0.379734\n",
            "Node 2: 0.360274\n",
            "Node 3: 0.037500\n"
          ]
        }
      ]
    },
    {
      "cell_type": "code",
      "source": [
        "import numpy as np\n",
        "import networkx as nx\n",
        "import matplotlib.pyplot as plt\n",
        "\n",
        "# Input number of nodes and edges\n",
        "n = int(input(\"Enter the number of nodes: \"))\n",
        "m = int(input(\"Enter the number of edges: \"))\n",
        "\n",
        "# Initialize adjacency matrix\n",
        "adj_matrix = np.zeros((n, n))\n",
        "\n",
        "print(\"Enter edges in format: from_node to_node (0-indexed)\")\n",
        "\n",
        "for _ in range(m):\n",
        "    from_node, to_node = map(int, input().split())\n",
        "    adj_matrix[to_node, from_node] = 1  # directed edge\n",
        "\n",
        "# PageRank parameters\n",
        "alpha = 0.85\n",
        "max_iter = 100\n",
        "tol = 1e-6\n",
        "\n",
        "# Compute out-degrees\n",
        "out_degree = adj_matrix.sum(axis=0)\n",
        "\n",
        "# Identify dangling nodes\n",
        "dangling_nodes = (out_degree == 0)\n",
        "\n",
        "# Initialize PageRank values\n",
        "pr = np.ones(n) / n\n",
        "\n",
        "# Transition probability matrix\n",
        "M = np.zeros((n, n))\n",
        "for j in range(n):\n",
        "    if out_degree[j] > 0:\n",
        "        M[:, j] = adj_matrix[:, j] / out_degree[j]\n",
        "    else:\n",
        "        M[:, j] = 1.0 / n  # handle dangling nodes\n",
        "\n",
        "# Power iteration method\n",
        "for i in range(max_iter):\n",
        "    pr_new = alpha * (M @ pr) + (1 - alpha) / n\n",
        "    if np.linalg.norm(pr_new - pr, 1) < tol:\n",
        "        break\n",
        "    pr = pr_new\n",
        "\n",
        "# Display PageRank scores\n",
        "print(\"\\nPageRank Scores:\")\n",
        "for i, score in enumerate(pr):\n",
        "    print(f\"Node {i}: {score:.6f}\")\n",
        "\n",
        "# --- Draw the graph ---\n",
        "G = nx.DiGraph()\n",
        "\n",
        "# Add edges\n",
        "for i in range(n):\n",
        "    for j in range(n):\n",
        "        if adj_matrix[j, i] == 1:\n",
        "            G.add_edge(i, j)\n",
        "\n",
        "# Draw nodes sized by PageRank value\n",
        "plt.figure(figsize=(7, 6))\n",
        "pos = nx.spring_layout(G, seed=42)\n",
        "nx.draw_networkx_nodes(G, pos, node_size=[v * 5000 for v in pr], cmap=plt.cm.viridis, node_color=pr)\n",
        "nx.draw_networkx_edges(G, pos, arrowstyle=\"->\", arrowsize=12, edge_color=\"gray\")\n",
        "nx.draw_networkx_labels(G, pos, font_size=12, font_color=\"black\")\n",
        "\n",
        "plt.title(\"PageRank Graph Visualization\", fontsize=14)\n",
        "plt.axis(\"off\")\n",
        "plt.show()\n"
      ],
      "metadata": {
        "id": "-SibnJ1t9ZZ5",
        "outputId": "af61ba19-d4ef-4940-a121-002bceeb93e8",
        "colab": {
          "base_uri": "https://localhost:8080/",
          "height": 746
        }
      },
      "execution_count": null,
      "outputs": [
        {
          "output_type": "stream",
          "name": "stdout",
          "text": [
            "Enter the number of nodes: 4\n",
            "Enter the number of edges: 4\n",
            "Enter edges in format: from_node to_node (0-indexed)\n",
            "0 1\n",
            "1 2\n",
            "2 0\n",
            "2 3\n",
            "\n",
            "PageRank Scores:\n",
            "Node 0: 0.213762\n",
            "Node 1: 0.264622\n",
            "Node 2: 0.307853\n",
            "Node 3: 0.213762\n"
          ]
        },
        {
          "output_type": "display_data",
          "data": {
            "text/plain": [
              "<Figure size 700x600 with 1 Axes>"
            ],
            "image/png": "[encoded data removed]"
          },
          "metadata": {}
        }
      ]
    }
  ],
  "metadata": {
    "colab": {
      "provenance": []
    },
    "kernelspec": {
      "display_name": "Python 3",
      "name": "python3"
    }
  },
  "nbformat": 4,
  "nbformat_minor": 0
}